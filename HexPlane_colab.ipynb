{
  "nbformat": 4,
  "nbformat_minor": 0,
  "metadata": {
    "colab": {
      "provenance": [],
      "authorship_tag": "ABX9TyO8y3NjxagyByrdfIhGU7ym",
      "include_colab_link": true
    },
    "kernelspec": {
      "name": "python3",
      "display_name": "Python 3"
    },
    "language_info": {
      "name": "python"
    }
  },
  "cells": [
    {
      "cell_type": "markdown",
      "metadata": {
        "id": "view-in-github",
        "colab_type": "text"
      },
      "source": [
        "<a href=\"https://colab.research.google.com/github/Albly/HexPlane/blob/main/HexPlane_colab.ipynb\" target=\"_parent\"><img src=\"https://colab.research.google.com/assets/colab-badge.svg\" alt=\"Open In Colab\"/></a>"
      ]
    },
    {
      "cell_type": "code",
      "source": [
        "import os\n",
        "\n",
        "if not os.path.isdir('HexPlane'):\n",
        "    # download project\n",
        "    !git clone -q https://github.com/Albly/HexPlane.git\n",
        "    %cd /content/HexPlane\n",
        "    # download D-Nerf dataset\n",
        "    !wget -q https://www.dropbox.com/s/0bf6fl0ye2vz3vr/data.zip\n",
        "    !unzip -q data.zip\n",
        "    !rm data.zip\n",
        "\n",
        "    !pip install -q -r requirements.txt"
      ],
      "metadata": {
        "id": "MWBhts1NZdlr"
      },
      "execution_count": null,
      "outputs": []
    },
    {
      "cell_type": "code",
      "source": [
        "%cd /content/HexPlane\n",
        "!python main.py config=dnerf_slim_colab.yaml"
      ],
      "metadata": {
        "id": "z28q7DVhecY-"
      },
      "execution_count": null,
      "outputs": []
    }
  ]
}